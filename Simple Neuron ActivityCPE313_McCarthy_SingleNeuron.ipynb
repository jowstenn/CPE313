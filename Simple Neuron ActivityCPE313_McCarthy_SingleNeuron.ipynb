{
  "nbformat": 4,
  "nbformat_minor": 0,
  "metadata": {
    "colab": {
      "provenance": []
    },
    "kernelspec": {
      "name": "python3",
      "display_name": "Python 3"
    },
    "language_info": {
      "name": "python"
    }
  },
  "cells": [
    {
      "cell_type": "markdown",
      "source": [
        "# Feed-forward"
      ],
      "metadata": {
        "id": "5xKiMR7VO7Um"
      }
    },
    {
      "cell_type": "code",
      "source": [
        "#Create a class that acts as a single neuron that sums that multiplied values of the inputs and weights\n",
        "class Neuron:\n",
        "  def __init__(self, inputs, weights):\n",
        "    #Initialize the variables\n",
        "    self.inputs = inputs\n",
        "    self.weights = weights\n",
        "    self.run = self.adder(inputs, weights)\n",
        "    self.func = self.relu()\n",
        "\n",
        "  def adder(self, inputs, weights):\n",
        "    # Add the units in the list and return the value\n",
        "    val1 = [0]\n",
        "    val2 = [1]\n",
        "    add = [val1*val2 for val1,val2 in zip(inputs, weights)]\n",
        "    total = sum(add)\n",
        "    print(total)\n",
        "    return total\n",
        "\n",
        "  def relu(self):\n",
        "    #function = self.run * (self.run > 0)\n",
        "    #print(function)\n",
        "    return self.run * (self.run > 0)"
      ],
      "metadata": {
        "id": "ZyVfacmOLKDm"
      },
      "execution_count": 69,
      "outputs": []
    },
    {
      "cell_type": "code",
      "source": [
        "#Import library for random values for weight\n",
        "from random import randint\n",
        "\n",
        "#Add inputs\n",
        "neuron = Neuron([5,6,7,8,9], [1,3,5,7,9])\n",
        "neuron2 = Neuron([5,6,7,8,9], [1,3,5,7,9])\n",
        "neuron3 = Neuron([5,6,7,8,9], [1,3,5,7,9])\n",
        "neuron4 = Neuron([5,6,7,8,9], [1,3,5,7,9])\n",
        "neuron5 = Neuron([5,6,7,8,9], [1,3,5,7,9])\n",
        "\n",
        "#Randomize weight value\n",
        "weight = randint(1,5)\n",
        "\n",
        "#Output layer\n",
        "output = Neuron([neuron.relu(), neuron2.relu(), neuron3.relu(), neuron4.relu(), neuron5.relu()], [weight])"
      ],
      "metadata": {
        "colab": {
          "base_uri": "https://localhost:8080/"
        },
        "id": "tQ5_ImQCLrdW",
        "outputId": "4b2913cf-3d6d-491d-dc7c-c54f5a2d0c5b"
      },
      "execution_count": 73,
      "outputs": [
        {
          "output_type": "stream",
          "name": "stdout",
          "text": [
            "195\n",
            "195\n",
            "195\n",
            "195\n",
            "195\n",
            "780\n"
          ]
        }
      ]
    }
  ]
}

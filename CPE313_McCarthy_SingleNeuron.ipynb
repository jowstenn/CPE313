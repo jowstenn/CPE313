{
  "nbformat": 4,
  "nbformat_minor": 0,
  "metadata": {
    "colab": {
      "provenance": []
    },
    "kernelspec": {
      "name": "python3",
      "display_name": "Python 3"
    },
    "language_info": {
      "name": "python"
    }
  },
  "cells": [
    {
      "cell_type": "code",
      "source": [
        "class Neuron:\n",
        "  def __init__(self, i1, i2, w1, w2):\n",
        "    self.i1 = i1\n",
        "    self.i2 = i2\n",
        "    self.w1 = w1\n",
        "    self.w2 = w2\n",
        "    self.run = self.adder(i1, i2, w1, w2)\n",
        "\n",
        "  def adder(self, i1, i2, w1, w2):\n",
        "    output = (i1 * w1) + (i2 * w2)\n",
        "    print(output)\n",
        "    return output\n",
        "\n",
        "  def relu(self) :\n",
        "    return self.run * (self.run > 0)"
      ],
      "metadata": {
        "id": "mH0WQVjQTXNZ"
      },
      "execution_count": 57,
      "outputs": []
    },
    {
      "cell_type": "code",
      "source": [
        "test = Neuron(2,2,2,2)"
      ],
      "metadata": {
        "colab": {
          "base_uri": "https://localhost:8080/"
        },
        "id": "LhFKi2DiSFFZ",
        "outputId": "fb4703fb-ecdd-4ec5-8849-6e55668e4635"
      },
      "execution_count": 60,
      "outputs": [
        {
          "output_type": "stream",
          "name": "stdout",
          "text": [
            "8\n"
          ]
        }
      ]
    },
    {
      "cell_type": "code",
      "source": [
        "test.relu()"
      ],
      "metadata": {
        "colab": {
          "base_uri": "https://localhost:8080/"
        },
        "id": "9--Twm2kZwk5",
        "outputId": "c270e5f8-9782-49b3-d180-1e0038e29c25"
      },
      "execution_count": 59,
      "outputs": [
        {
          "output_type": "execute_result",
          "data": {
            "text/plain": [
              "8"
            ]
          },
          "metadata": {},
          "execution_count": 59
        }
      ]
    }
  ]
}